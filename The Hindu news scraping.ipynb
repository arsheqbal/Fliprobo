{
 "cells": [
  {
   "cell_type": "code",
   "execution_count": 3,
   "metadata": {},
   "outputs": [],
   "source": [
    "#importing all libraries\n",
    "import pandas as pd\n",
    "import selenium\n",
    "import time\n",
    "from selenium import webdriver\n",
    "from selenium.common.exceptions import NoSuchElementException"
   ]
  },
  {
   "cell_type": "code",
   "execution_count": 17,
   "metadata": {},
   "outputs": [],
   "source": [
    "# loading Chrome webdriver\n",
    "driver = webdriver.Chrome('chromedriver.exe')"
   ]
  },
  {
   "cell_type": "code",
   "execution_count": 4,
   "metadata": {},
   "outputs": [],
   "source": [
    "# passing the url\n",
    "driver.get('https://www.thehindu.com/archive/')"
   ]
  },
  {
   "cell_type": "code",
   "execution_count": 26,
   "metadata": {},
   "outputs": [
    {
     "name": "stdout",
     "output_type": "stream",
     "text": [
      "Completed\n"
     ]
    }
   ],
   "source": [
    "#extracting the url of each month from the year 2015 to 2021 from the archive.\n",
    "month_url = []\n",
    "outer_loop = range(7, 14) #outer loop to interate over the years.\n",
    "inner_loop = range(1, 13) #inner loop to iterate over the months.\n",
    "try:\n",
    "    for i in outer_loop:\n",
    "        for j in inner_loop:\n",
    "            xpath = \"//*[@id='archiveWebContainer']/div[2]/ul[\"\n",
    "            xpath += str(i)\n",
    "            xpath += \"]/li[\"\n",
    "            xpath += str(j)\n",
    "            xpath += \"]/a\"\n",
    "            url = driver.find_element_by_xpath(xpath)\n",
    "            month_url.append(url.get_attribute('href'))\n",
    "except NoSuchElementException:\n",
    "    print('Completed')"
   ]
  },
  {
   "cell_type": "code",
   "execution_count": 34,
   "metadata": {},
   "outputs": [],
   "source": [
    "#extracting the daily url from the monthly url\n",
    "\n",
    "daily_url = []\n",
    "for i in month_url:\n",
    "    driver.get(i)\n",
    "    for a in driver.find_elements_by_xpath('//a[@class=\"ui-state-default\"]'):\n",
    "        daily_url.append(a.get_attribute('href'))"
   ]
  },
  {
   "cell_type": "code",
   "execution_count": 3,
   "metadata": {},
   "outputs": [],
   "source": [
    "news_url = []"
   ]
  },
  {
   "cell_type": "code",
   "execution_count": 109,
   "metadata": {},
   "outputs": [],
   "source": [
    "# extracting the url of each news publish on each day on the website\n",
    "\n",
    "section = range(1, 51)\n",
    "for i in daily_url[1808:]:\n",
    "    driver.get(i)\n",
    "    time.sleep(2)\n",
    "    for j in section:\n",
    "        xpath = \"//*[@id='section_\"\n",
    "        xpath += str(j)\n",
    "        xpath += \"'\"\n",
    "        xpath += \"]/div[2]/div/div/div/ul/li/a\"\n",
    "        for a in driver.find_elements_by_xpath(xpath):\n",
    "            news_url.append(a.get_attribute('href'))"
   ]
  },
  {
   "cell_type": "code",
   "execution_count": 3,
   "metadata": {},
   "outputs": [],
   "source": [
    "# assigning the variable to store the data\n",
    "date = []\n",
    "author = []\n",
    "verticle = []\n",
    "headline = []\n",
    "description = []"
   ]
  },
  {
   "cell_type": "code",
   "execution_count": null,
   "metadata": {},
   "outputs": [
    {
     "name": "stdout",
     "output_type": "stream",
     "text": [
      "News extracted 11642 out of 1008622\r"
     ]
    }
   ],
   "source": [
    "t = 1\n",
    "\n",
    "for i in news_url[229257:]:\n",
    "    driver.get(i)\n",
    "    #time.sleep(2)\n",
    "    \n",
    "    # scraping date of the news         \n",
    "    try:\n",
    "        date_1 = driver.find_element_by_xpath('//div[@class=\"ut-container\"]/span[2]/none')\n",
    "        date.append(date_1.text)\n",
    "    except NoSuchElementException:\n",
    "        try:\n",
    "            date_1 = driver.find_element_by_xpath('//div[@class=\"ut-container\"]/span[1]/none')\n",
    "            date.append(date_1.text)\n",
    "        except NoSuchElementException:\n",
    "            date.append(\"-\")\n",
    "    \n",
    "    # scraping author of the news\n",
    "    try:\n",
    "        auth = driver.find_element_by_xpath('//span[@class=\"author-img-name 1\"]/a[2]')\n",
    "        author.append(auth.text)\n",
    "    except NoSuchElementException:\n",
    "        author.append(\"-\")\n",
    "    \n",
    "    # scraping the verticle of the news\n",
    "    try:\n",
    "        vert = driver.find_element_by_xpath('//a[@class=\"section-name\"]')\n",
    "        verticle.append(vert.text)\n",
    "    except NoSuchElementException:\n",
    "        verticle.append('-')\n",
    "    \n",
    "    # scraping the headline of the news\n",
    "    try:\n",
    "        head = driver.find_element_by_xpath('//h1[@class=\"title\"]')\n",
    "        headline.append(head.text)\n",
    "    except NoSuchElementException:\n",
    "        headline.append('-')\n",
    "    \n",
    "    #scraping the description of the news\n",
    "    try:\n",
    "        desc1 = driver.find_element_by_xpath('/html/body/div[2]/div[2]/div/div/div/section/div/div/div/div[3]/div[3]/p').text\n",
    "    except NoSuchElementException:\n",
    "        desc1 = ''\n",
    "    try:\n",
    "        desc2 = driver.find_element_by_xpath('/html/body/div[2]/div[2]/div/div/div/section/div/div/div/div[3]/div[3]/p[2]').text\n",
    "    except NoSuchElementException:\n",
    "        desc2 = ''\n",
    "    try:\n",
    "        desc3 = driver.find_element_by_xpath('/html/body/div[2]/div[2]/div/div/div/section/div/div/div/div[3]/div[3]/p[3]').text\n",
    "    except NoSuchElementException:\n",
    "        desc3 = ''\n",
    "    result_desc = desc1+desc2+desc3\n",
    "    description.append(result_desc)\n",
    "    \n",
    "    print(\"News extracted {} out of {}\".format(t, len(news_url)), end='\\r')\n",
    "    t += 1"
   ]
  },
  {
   "cell_type": "code",
   "execution_count": 20,
   "metadata": {},
   "outputs": [
    {
     "data": {
      "text/html": [
       "<div>\n",
       "<style scoped>\n",
       "    .dataframe tbody tr th:only-of-type {\n",
       "        vertical-align: middle;\n",
       "    }\n",
       "\n",
       "    .dataframe tbody tr th {\n",
       "        vertical-align: top;\n",
       "    }\n",
       "\n",
       "    .dataframe thead th {\n",
       "        text-align: right;\n",
       "    }\n",
       "</style>\n",
       "<table border=\"1\" class=\"dataframe\">\n",
       "  <thead>\n",
       "    <tr style=\"text-align: right;\">\n",
       "      <th></th>\n",
       "      <th>Date</th>\n",
       "      <th>Author</th>\n",
       "      <th>Verticle</th>\n",
       "      <th>Headline</th>\n",
       "      <th>Description</th>\n",
       "    </tr>\n",
       "  </thead>\n",
       "  <tbody>\n",
       "    <tr>\n",
       "      <th>0</th>\n",
       "      <td>FEBRUARY 27, 2015 00:00 IST</td>\n",
       "      <td>-</td>\n",
       "      <td>TAMIL NADU</td>\n",
       "      <td>coimbatore today</td>\n",
       "      <td>ReligionArulmigu Koniamman Temple: Thiru Ther ...</td>\n",
       "    </tr>\n",
       "    <tr>\n",
       "      <th>1</th>\n",
       "      <td>FEBRUARY 27, 2015 00:00 IST</td>\n",
       "      <td>D. Radhakrishnan</td>\n",
       "      <td>TAMIL NADU</td>\n",
       "      <td>Civic administration gearing up for season</td>\n",
       "      <td>The civic administration in this popular vacat...</td>\n",
       "    </tr>\n",
       "    <tr>\n",
       "      <th>2</th>\n",
       "      <td>FEBRUARY 27, 2015 00:00 IST</td>\n",
       "      <td>SPECIAL CORRESPONDENT</td>\n",
       "      <td>TAMIL NADU</td>\n",
       "      <td>Co-optex scheme launched in Ooty</td>\n",
       "      <td>A month-long ‘Buy Two and Get One Free’ scheme...</td>\n",
       "    </tr>\n",
       "    <tr>\n",
       "      <th>3</th>\n",
       "      <td>FEBRUARY 27, 2015 00:00 IST</td>\n",
       "      <td>-</td>\n",
       "      <td>TAMIL NADU</td>\n",
       "      <td>Chennai today</td>\n",
       "      <td>RELIGIONRamayanam: Jaya Srinivasan, Asthika Sa...</td>\n",
       "    </tr>\n",
       "    <tr>\n",
       "      <th>4</th>\n",
       "      <td>FEBRUARY 27, 2015 00:00 IST</td>\n",
       "      <td>SPECIAL CORRESPONDENT</td>\n",
       "      <td>TAMIL NADU</td>\n",
       "      <td>PT functionary’s body buried</td>\n",
       "      <td>The tension that had engulfed Srivaikuntam and...</td>\n",
       "    </tr>\n",
       "    <tr>\n",
       "      <th>...</th>\n",
       "      <td>...</td>\n",
       "      <td>...</td>\n",
       "      <td>...</td>\n",
       "      <td>...</td>\n",
       "      <td>...</td>\n",
       "    </tr>\n",
       "    <tr>\n",
       "      <th>159805</th>\n",
       "      <td>JANUARY 26, 2016 00:00 IST</td>\n",
       "      <td>Shankar Bennur</td>\n",
       "      <td>KARNATAKA</td>\n",
       "      <td>‘Ensure public safety at worksites’</td>\n",
       "      <td>A day after a motorcyclist died after falling ...</td>\n",
       "    </tr>\n",
       "    <tr>\n",
       "      <th>159806</th>\n",
       "      <td>JANUARY 26, 2016 00:00 IST</td>\n",
       "      <td>Staff Correspondent</td>\n",
       "      <td>KARNATAKA</td>\n",
       "      <td>JD(S) will fare well in ZP, TP polls: Revanna</td>\n",
       "      <td>The Janata Dal (Secular) will win more seats i...</td>\n",
       "    </tr>\n",
       "    <tr>\n",
       "      <th>159807</th>\n",
       "      <td>JANUARY 26, 2016 00:00 IST</td>\n",
       "      <td>Shankar Bennur</td>\n",
       "      <td>KARNATAKA</td>\n",
       "      <td>More cameras for traffic surveillance</td>\n",
       "      <td>As over 52 cameras installed at various locati...</td>\n",
       "    </tr>\n",
       "    <tr>\n",
       "      <th>159808</th>\n",
       "      <td>JANUARY 26, 2016 00:00 IST</td>\n",
       "      <td>Shankar Bennur</td>\n",
       "      <td>KARNATAKA</td>\n",
       "      <td>Police to act tough against traffic violators</td>\n",
       "      <td>Signal jumping by motorists, mainly two-wheele...</td>\n",
       "    </tr>\n",
       "    <tr>\n",
       "      <th>159809</th>\n",
       "      <td>JANUARY 26, 2016 00:00 IST</td>\n",
       "      <td>H.S.Narasimha Kumar.</td>\n",
       "      <td>KARNATAKA</td>\n",
       "      <td>Engagements.</td>\n",
       "      <td>Mysuru</td>\n",
       "    </tr>\n",
       "  </tbody>\n",
       "</table>\n",
       "<p>159810 rows × 5 columns</p>\n",
       "</div>"
      ],
      "text/plain": [
       "                               Date                 Author    Verticle  \\\n",
       "0       FEBRUARY 27, 2015 00:00 IST                      -  TAMIL NADU   \n",
       "1       FEBRUARY 27, 2015 00:00 IST       D. Radhakrishnan  TAMIL NADU   \n",
       "2       FEBRUARY 27, 2015 00:00 IST  SPECIAL CORRESPONDENT  TAMIL NADU   \n",
       "3       FEBRUARY 27, 2015 00:00 IST                      -  TAMIL NADU   \n",
       "4       FEBRUARY 27, 2015 00:00 IST  SPECIAL CORRESPONDENT  TAMIL NADU   \n",
       "...                             ...                    ...         ...   \n",
       "159805   JANUARY 26, 2016 00:00 IST         Shankar Bennur   KARNATAKA   \n",
       "159806   JANUARY 26, 2016 00:00 IST    Staff Correspondent   KARNATAKA   \n",
       "159807   JANUARY 26, 2016 00:00 IST         Shankar Bennur   KARNATAKA   \n",
       "159808   JANUARY 26, 2016 00:00 IST         Shankar Bennur   KARNATAKA   \n",
       "159809   JANUARY 26, 2016 00:00 IST   H.S.Narasimha Kumar.   KARNATAKA   \n",
       "\n",
       "                                             Headline  \\\n",
       "0                                    coimbatore today   \n",
       "1          Civic administration gearing up for season   \n",
       "2                    Co-optex scheme launched in Ooty   \n",
       "3                                       Chennai today   \n",
       "4                        PT functionary’s body buried   \n",
       "...                                               ...   \n",
       "159805            ‘Ensure public safety at worksites’   \n",
       "159806  JD(S) will fare well in ZP, TP polls: Revanna   \n",
       "159807          More cameras for traffic surveillance   \n",
       "159808  Police to act tough against traffic violators   \n",
       "159809                                   Engagements.   \n",
       "\n",
       "                                              Description  \n",
       "0       ReligionArulmigu Koniamman Temple: Thiru Ther ...  \n",
       "1       The civic administration in this popular vacat...  \n",
       "2       A month-long ‘Buy Two and Get One Free’ scheme...  \n",
       "3       RELIGIONRamayanam: Jaya Srinivasan, Asthika Sa...  \n",
       "4       The tension that had engulfed Srivaikuntam and...  \n",
       "...                                                   ...  \n",
       "159805  A day after a motorcyclist died after falling ...  \n",
       "159806  The Janata Dal (Secular) will win more seats i...  \n",
       "159807  As over 52 cameras installed at various locati...  \n",
       "159808  Signal jumping by motorists, mainly two-wheele...  \n",
       "159809                                             Mysuru  \n",
       "\n",
       "[159810 rows x 5 columns]"
      ]
     },
     "execution_count": 20,
     "metadata": {},
     "output_type": "execute_result"
    }
   ],
   "source": [
    "News = pd.concat(map(pd.read_csv, ['news1.csv', 'news2.csv', 'news3.csv', 'news4.csv']), ignore_index=True)\n",
    "News"
   ]
  },
  {
   "cell_type": "code",
   "execution_count": 22,
   "metadata": {},
   "outputs": [],
   "source": [
    "News.to_csv('News_csv.csv')"
   ]
  },
  {
   "cell_type": "code",
   "execution_count": 23,
   "metadata": {},
   "outputs": [],
   "source": [
    "News.to_json(r'C:\\Users\\Aamir Rahman\\News_json.json')"
   ]
  },
  {
   "cell_type": "code",
   "execution_count": 35,
   "metadata": {},
   "outputs": [],
   "source": [
    "News.to_xml(r'C:\\Users\\Aamir Rahman\\News_xml1.xml')"
   ]
  }
 ],
 "metadata": {
  "kernelspec": {
   "display_name": "Python 3",
   "language": "python",
   "name": "python3"
  },
  "language_info": {
   "codemirror_mode": {
    "name": "ipython",
    "version": 3
   },
   "file_extension": ".py",
   "mimetype": "text/x-python",
   "name": "python",
   "nbconvert_exporter": "python",
   "pygments_lexer": "ipython3",
   "version": "3.8.8"
  }
 },
 "nbformat": 4,
 "nbformat_minor": 4
}
